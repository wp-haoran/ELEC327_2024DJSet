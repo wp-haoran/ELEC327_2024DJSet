{
  "cells": [
    {
      "cell_type": "code",
      "execution_count": null,
      "metadata": {
        "id": "f-Ai1uh-7c_c"
      },
      "outputs": [],
      "source": [
        "import cv2\n",
        "import numpy as np"
      ]
    },
    {
      "cell_type": "code",
      "execution_count": null,
      "metadata": {
        "id": "yRwdIq1h5_jc"
      },
      "outputs": [],
      "source": [
        "def read_video_into_numpy(filename, framecap=-1):\n",
        "  cap = cv2.VideoCapture(filename)\n",
        "  frames = []\n",
        "\n",
        "  # set a frame cap\n",
        "  framectr = 0\n",
        "\n",
        "  # Check if camera opened successfully\n",
        "  if (cap.isOpened()== False):\n",
        "    print(\"Error opening video stream or file\")\n",
        "    return\n",
        "  while cap.isOpened() and (framectr < framecap or framecap == -1):\n",
        "    ret, frame = cap.read()\n",
        "    framectr+=1\n",
        "\n",
        "    # for some reason the ret is false but the frame still reads.\n",
        "    # probably because avi format\n",
        "    # we also can't convert from BGR to RGB but we can\n",
        "    # either convert each frame\n",
        "    # or just use the middle channel since it's green anyway so it's fine.\n",
        "\n",
        "    #print(frame)\n",
        "    # if frame is read correctly ret is True\n",
        "    # if not ret:\n",
        "    #   print(\"Can't receive frame (stream end?). Exiting ...\")\n",
        "      #break\n",
        "\n",
        "    # frame = cv2.cvtColor(frame, cv2.COLOR_BGR2RGB)\n",
        "    # frame = cv2.resize(frame, (16, 16))\n",
        "    if frame is not None:\n",
        "      # print(3)\n",
        "      frame = cv2.resize(frame, (16, 16))\n",
        "      frames.append(frame)\n",
        "    else:\n",
        "      break\n",
        "\n",
        "  cap.release()\n",
        "  video = np.stack(frames, axis=0)#converts to numpy array(T,H,W,C)\n",
        "  # video = np.transpose(video, (1,2,3,0))#(T,H,W,C)->(H,W,C,T)\n",
        "  return np.array(frames)"
      ]
    },
    {
      "cell_type": "code",
      "execution_count": null,
      "metadata": {
        "id": "Z8XqtDWV6QvS"
      },
      "outputs": [],
      "source": [
        "video_data = read_video_into_numpy('Bad_Apple.mp4')"
      ]
    },
    {
      "cell_type": "code",
      "execution_count": null,
      "metadata": {
        "colab": {
          "base_uri": "https://localhost:8080/"
        },
        "id": "zfj0IfIFeWaK",
        "outputId": "3118dd42-59f1-4cf2-a8ce-ad03e78e6ff0"
      },
      "outputs": [
        {
          "output_type": "execute_result",
          "data": {
            "text/plain": [
              "(6572, 16, 16, 3)"
            ]
          },
          "metadata": {},
          "execution_count": 8
        }
      ],
      "source": [
        "video_data.shape"
      ]
    },
    {
      "cell_type": "code",
      "execution_count": null,
      "metadata": {
        "id": "s5f4P9RwmHve"
      },
      "outputs": [],
      "source": [
        "# we can take around 10 fps (take every 6th frame, and then restrict duration to like 30s instead of 3:30, so another 7x downsample)"
      ]
    },
    {
      "cell_type": "code",
      "execution_count": null,
      "metadata": {
        "id": "xZW-1s2amVp8"
      },
      "outputs": [],
      "source": [
        "# video_data = video_data[::6]\n",
        "# video_data = video_data[:50]"
      ]
    },
    {
      "cell_type": "code",
      "execution_count": null,
      "metadata": {
        "colab": {
          "base_uri": "https://localhost:8080/"
        },
        "id": "RpBj_oR97ijR",
        "outputId": "a0914b88-34dc-4437-fe65-d72020de3cf3"
      },
      "outputs": [
        {
          "output_type": "stream",
          "name": "stdout",
          "text": [
            "255\n"
          ]
        }
      ],
      "source": [
        "# Zero out entries with value 255\n",
        "video_data[video_data <= 30] = 0\n",
        "video_data[video_data > 30] = 255\n",
        "\n",
        "# Print the modified array\n",
        "print(video_data.max())"
      ]
    },
    {
      "cell_type": "code",
      "execution_count": null,
      "metadata": {
        "id": "EoaMQ1Yl9ank"
      },
      "outputs": [],
      "source": [
        "video_data = video_data[..., [1, 0, 2]] # RGB to GRB"
      ]
    },
    {
      "cell_type": "code",
      "execution_count": null,
      "metadata": {
        "id": "EHOUxwd_94nA"
      },
      "outputs": [],
      "source": [
        "def format_string(nparr):\n",
        "  # Convert numpy array to string\n",
        "  array_str = str(nparr)\n",
        "\n",
        "  # Replace square brackets with curly brackets\n",
        "  formatted_array_str = array_str.replace(\"[\", \"{\").replace(\"]\", \"}\")\n",
        "  formatted_array_str = formatted_array_str.replace(\"\\n\", \"\").replace(\" \", \"\").replace(\"000\", \"0, 0, 0\").replace(\"255255255\", \"255, 255, 255\").replace(\"}{\", \"}, {\")\n",
        "  formatted_array_str = formatted_array_str.replace(\"{255, 255, 255}\",\"1\").replace(\"{0, 0, 0}\", \"0\")\n",
        "  return formatted_array_str"
      ]
    },
    {
      "cell_type": "code",
      "source": [
        "with open('bad_apple.c', 'w') as file:\n",
        "  # Write the string to the file\n",
        "  file.write(\"{\")\n",
        "  for fr in range(video_data.shape[0]):\n",
        "    # with open('bad_apple_first50f_10fps.txt', 'w') as file:\n",
        "    # Write the string to the file\n",
        "    file.write(format_string(video_data[fr]))\n",
        "    if fr < video_data.shape[0]-1:\n",
        "      file.write(\", \")\n",
        "\n",
        "# with open('bad_apple_first50f_10fps.txt', 'w') as file:\n",
        "          # Write the string to the file\n",
        "  file.write(\"};\")"
      ],
      "metadata": {
        "id": "rzR877xI3meU"
      },
      "execution_count": null,
      "outputs": []
    },
    {
      "cell_type": "code",
      "execution_count": null,
      "metadata": {
        "id": "Ce8Xs8_5C3TU"
      },
      "outputs": [],
      "source": [
        "# Frequencies of notes in the third octave (C3 to B3)\n",
        "base_notes = np.array([16.35, 17.32, 18.35, 19.45, 20.60, 21.83,\n",
        "                       23.13, 24.50, 25.96, 27.50, 29.14, 30.87])\n",
        "\n",
        "\n",
        "octave_34 = np.hstack((base_notes*8, base_notes*16))[:, None]"
      ]
    },
    {
      "cell_type": "code",
      "source": [
        "base_notes*16"
      ],
      "metadata": {
        "colab": {
          "base_uri": "https://localhost:8080/"
        },
        "id": "8UONlfVp_aWa",
        "outputId": "b01c42a3-b2fc-49d5-b7fb-2bc6c29e3b74"
      },
      "execution_count": null,
      "outputs": [
        {
          "output_type": "execute_result",
          "data": {
            "text/plain": [
              "array([261.6 , 277.12, 293.6 , 311.2 , 329.6 , 349.28, 370.08, 392.  ,\n",
              "       415.36, 440.  , 466.24, 493.92])"
            ]
          },
          "metadata": {},
          "execution_count": 4
        }
      ]
    },
    {
      "cell_type": "code",
      "execution_count": null,
      "metadata": {
        "colab": {
          "base_uri": "https://localhost:8080/"
        },
        "id": "8oyb3lomTzmL",
        "outputId": "58b95b31-65be-48c6-e835-cd904ef9f653"
      },
      "outputs": [
        {
          "data": {
            "text/plain": [
              "array([[130.8 ],\n",
              "       [138.56],\n",
              "       [146.8 ],\n",
              "       [155.6 ],\n",
              "       [164.8 ],\n",
              "       [174.64],\n",
              "       [185.04],\n",
              "       [196.  ],\n",
              "       [207.68],\n",
              "       [220.  ],\n",
              "       [233.12],\n",
              "       [246.96],\n",
              "       [261.6 ],\n",
              "       [277.12],\n",
              "       [293.6 ],\n",
              "       [311.2 ],\n",
              "       [329.6 ],\n",
              "       [349.28],\n",
              "       [370.08],\n",
              "       [392.  ],\n",
              "       [415.36],\n",
              "       [440.  ],\n",
              "       [466.24],\n",
              "       [493.92]])"
            ]
          },
          "execution_count": 12,
          "metadata": {},
          "output_type": "execute_result"
        }
      ],
      "source": [
        "octave_34"
      ]
    },
    {
      "cell_type": "code",
      "execution_count": null,
      "metadata": {
        "id": "GTmI8kKYDJnN"
      },
      "outputs": [],
      "source": [
        "minor_triads = np.array([[pitch[0], pitch[0]*32/27, pitch[0]*1.5] for pitch in octave_34])"
      ]
    },
    {
      "cell_type": "code",
      "execution_count": null,
      "metadata": {
        "id": "HvjUE7fXDebn"
      },
      "outputs": [],
      "source": [
        "major_triads = np.array([[pitch[0], pitch[0]*81/64, pitch[0]*1.5] for pitch in octave_34])"
      ]
    },
    {
      "cell_type": "code",
      "execution_count": null,
      "metadata": {
        "colab": {
          "base_uri": "https://localhost:8080/",
          "height": 54
        },
        "id": "G9JCQHFOJ8Pv",
        "outputId": "ec8dc972-83d3-4af7-a983-ccc4b2981382"
      },
      "outputs": [
        {
          "data": {
            "application/vnd.google.colaboratory.intrinsic+json": {
              "type": "string"
            },
            "text/plain": [
              "'{{130.81}, {138.59}, {146.83}, {155.56}, {164.81}, {174.61}, {185.  }, {196.  }, {207.65}, {220.  }, {233.08}, {246.94}, {261.63}, {277.18}, {293.66}, {311.13}, {329.63}, {349.23}, {369.99}, {392.  }, {415.3 }, {440.  }, {466.16}, {493.88}}'"
            ]
          },
          "execution_count": 15,
          "metadata": {},
          "output_type": "execute_result"
        }
      ],
      "source": [
        "str(octave_34).replace(\"[\", \"{\").replace(\"]\", \"}\").replace(\"\\n\", \",\")"
      ]
    },
    {
      "cell_type": "code",
      "execution_count": null,
      "metadata": {
        "colab": {
          "base_uri": "https://localhost:8080/"
        },
        "id": "7OeN4vE1KjKg",
        "outputId": "34929c0a-72b4-4caa-b6bf-2e987311f8a6"
      },
      "outputs": [
        {
          "data": {
            "text/plain": [
              "array([[130.8       , 155.02222222, 196.2       ],\n",
              "       [138.56      , 164.21925926, 207.84      ],\n",
              "       [146.8       , 173.98518519, 220.2       ],\n",
              "       [155.6       , 184.41481481, 233.4       ],\n",
              "       [164.8       , 195.31851852, 247.2       ],\n",
              "       [174.64      , 206.98074074, 261.96      ],\n",
              "       [185.04      , 219.30666667, 277.56      ],\n",
              "       [196.        , 232.2962963 , 294.        ],\n",
              "       [207.68      , 246.13925926, 311.52      ],\n",
              "       [220.        , 260.74074074, 330.        ],\n",
              "       [233.12      , 276.29037037, 349.68      ],\n",
              "       [246.96      , 292.69333333, 370.44      ],\n",
              "       [261.6       , 310.04444444, 392.4       ],\n",
              "       [277.12      , 328.43851852, 415.68      ],\n",
              "       [293.6       , 347.97037037, 440.4       ],\n",
              "       [311.2       , 368.82962963, 466.8       ],\n",
              "       [329.6       , 390.63703704, 494.4       ],\n",
              "       [349.28      , 413.96148148, 523.92      ],\n",
              "       [370.08      , 438.61333333, 555.12      ],\n",
              "       [392.        , 464.59259259, 588.        ],\n",
              "       [415.36      , 492.27851852, 623.04      ],\n",
              "       [440.        , 521.48148148, 660.        ],\n",
              "       [466.24      , 552.58074074, 699.36      ],\n",
              "       [493.92      , 585.38666667, 740.88      ]])"
            ]
          },
          "execution_count": 15,
          "metadata": {},
          "output_type": "execute_result"
        }
      ],
      "source": [
        "minor_triads"
      ]
    },
    {
      "cell_type": "code",
      "execution_count": null,
      "metadata": {
        "colab": {
          "base_uri": "https://localhost:8080/",
          "height": 126
        },
        "id": "7_rB5NkoDmkC",
        "outputId": "ab7a6b14-9f1c-4077-f13a-48b58728d42d"
      },
      "outputs": [
        {
          "data": {
            "application/vnd.google.colaboratory.intrinsic+json": {
              "type": "string"
            },
            "text/plain": [
              "'{{130.81, 155.03407407 196.215     }, {138.59, 164.25481481 207.885     }, {146.83, 174.02074074 220.245     }, {155.56, 184.36740741 233.34,}, {164.81, 195.33037037 247.215     }, {174.61, 206.94518519 261.915     }, {185.,   219.25925926 277.5, }, {196.,   232.2962963  294.,  }, {207.65, 246.1037037  311.475     }, {220.,   260.74074074 330.,  }, {233.08, 276.24296296 349.62,}, {246.94, 292.66962963 370.41,}, {261.63, 310.08, 392.445     }, {277.18, 328.50962963 415.77,}, {293.66, 348.04148148 440.49,}, {311.13, 368.74666667 466.695     }, {329.63, 390.67259259 494.445     }, {349.23, 413.90222222 523.845     }, {369.99, 438.50666667 554.985     }, {392.,   464.59259259 588.,  }, {415.3,  492.20740741 622.95,}, {440.,   521.48148148 660.,  }, {466.16, 552.48592593 699.24,}, {493.88, 585.33925926 740.82,}}'"
            ]
          },
          "execution_count": 31,
          "metadata": {},
          "output_type": "execute_result"
        }
      ],
      "source": [
        "str(minor_triads).replace(\"      \", \",\").replace(\"[\", \"{\").replace(\"]\", \"}\").replace(\"\\n\", \",\")"
      ]
    },
    {
      "cell_type": "code",
      "execution_count": null,
      "metadata": {
        "colab": {
          "base_uri": "https://localhost:8080/"
        },
        "id": "rvefeCpKDoXg",
        "outputId": "a56fb345-f3a3-4ae6-ba7f-34ee774c0e68"
      },
      "outputs": [
        {
          "data": {
            "text/plain": [
              "array([[130.8    , 165.54375, 196.2    ],\n",
              "       [138.56   , 175.365  , 207.84   ],\n",
              "       [146.8    , 185.79375, 220.2    ],\n",
              "       [155.6    , 196.93125, 233.4    ],\n",
              "       [164.8    , 208.575  , 247.2    ],\n",
              "       [174.64   , 221.02875, 261.96   ],\n",
              "       [185.04   , 234.19125, 277.56   ],\n",
              "       [196.     , 248.0625 , 294.     ],\n",
              "       [207.68   , 262.845  , 311.52   ],\n",
              "       [220.     , 278.4375 , 330.     ],\n",
              "       [233.12   , 295.0425 , 349.68   ],\n",
              "       [246.96   , 312.55875, 370.44   ],\n",
              "       [261.6    , 331.0875 , 392.4    ],\n",
              "       [277.12   , 350.73   , 415.68   ],\n",
              "       [293.6    , 371.5875 , 440.4    ],\n",
              "       [311.2    , 393.8625 , 466.8    ],\n",
              "       [329.6    , 417.15   , 494.4    ],\n",
              "       [349.28   , 442.0575 , 523.92   ],\n",
              "       [370.08   , 468.3825 , 555.12   ],\n",
              "       [392.     , 496.125  , 588.     ],\n",
              "       [415.36   , 525.69   , 623.04   ],\n",
              "       [440.     , 556.875  , 660.     ],\n",
              "       [466.24   , 590.085  , 699.36   ],\n",
              "       [493.92   , 625.1175 , 740.88   ]])"
            ]
          },
          "execution_count": 16,
          "metadata": {},
          "output_type": "execute_result"
        }
      ],
      "source": [
        "major_triads"
      ]
    },
    {
      "cell_type": "code",
      "execution_count": null,
      "metadata": {
        "id": "87yJCQeI8h3P"
      },
      "outputs": [],
      "source": [
        "import imageio"
      ]
    },
    {
      "cell_type": "code",
      "execution_count": null,
      "metadata": {
        "id": "koRIgEyg8bX-"
      },
      "outputs": [],
      "source": [
        "\n",
        "imageio.mimsave('bad_apple_bin.gif', video_data, fps=60)\n"
      ]
    }
  ],
  "metadata": {
    "colab": {
      "provenance": []
    },
    "kernelspec": {
      "display_name": "Python 3",
      "name": "python3"
    },
    "language_info": {
      "name": "python"
    }
  },
  "nbformat": 4,
  "nbformat_minor": 0
}