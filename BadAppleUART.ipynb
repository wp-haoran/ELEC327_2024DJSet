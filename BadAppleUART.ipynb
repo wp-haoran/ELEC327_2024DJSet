{
 "cells": [
  {
   "cell_type": "code",
   "execution_count": 1,
   "id": "5657bcbd-3278-40a9-af61-f7863b735301",
   "metadata": {},
   "outputs": [],
   "source": [
    "### Python Notebook intended to process video data and gradually pass it to MSP430 through FT232RL cable \n",
    "\n",
    "import numpy as np\n",
    "import ast # file reading\n",
    "import serial"
   ]
  },
  {
   "cell_type": "code",
   "execution_count": null,
   "id": "0b823756-b732-44ad-a46f-c2b2ec2874bf",
   "metadata": {},
   "outputs": [],
   "source": [
    "## DATA PREPARATION\n",
    "# read data from text file\n",
    "video_fname = \"C:/Users/willp/School/2023-2024/ELEC327/FinalProject/bad_apple.txt\"\n",
    "\n",
    "with open(video_fname, 'r') as video_file:\n",
    "    file_str = video_file.read()\n",
    "\n",
    "video_arr = np.array(ast.literal_eval(file_str))"
   ]
  },
  {
   "cell_type": "code",
   "execution_count": 59,
   "id": "477cc784-e504-40c9-85e5-bf5a1d351176",
   "metadata": {},
   "outputs": [],
   "source": [
    "# Data Parsing for UART\n",
    "# takes all frames and reshapes into array of bytes\n",
    "frames = video_arr.shape[0]\n",
    "video_chars = np.packbits(video_arr.reshape(frames, 32, 8), axis=2, bitorder='big').reshape(frames, 32)\n",
    "video_bytes = video_chars.astype(bytes)"
   ]
  },
  {
   "cell_type": "code",
   "execution_count": 62,
   "id": "81ba7107-1971-4cfc-9828-dc04a397e21d",
   "metadata": {},
   "outputs": [
    {
     "name": "stdout",
     "output_type": "stream",
     "text": [
      "Data sent: b'30489490824908'\n",
      "Data received: b''\n",
      "Serial port closed.\n",
      "Echo failed or incomplete.\n"
     ]
    }
   ],
   "source": [
    "## SERIAL\n",
    "# initialize and access serial ports\n",
    "\n",
    "try:\n",
    "    ser5 = serial.Serial(port='COM5', baudrate=9600, bytesize=serial.EIGHTBITS, \n",
    "                         parity=serial.PARITY_NONE, stopbits=serial.STOPBITS_ONE, \n",
    "                         timeout=3)\n",
    "\n",
    "    # Data to send\n",
    "    data_to_send = b'y'\n",
    "\n",
    "    # Sending data\n",
    "    ser5.write(data_to_send)\n",
    "    print(\"Data sent:\", data_to_send)\n",
    "\n",
    "    # Attempt to read the echoed data\n",
    "    read_data = ser5.read(len(data_to_send))  # Expect the same number of bytes back\n",
    "    print(\"Data received:\", read_data)\n",
    "\n",
    "finally:\n",
    "    # Ensure the serial port is closed\n",
    "    ser5.close()\n",
    "    print(\"Serial port closed.\")\n",
    "\n",
    "# Check if the received data matches the sent data\n",
    "if read_data == data_to_send:\n",
    "    print(\"Echo successful!\")\n",
    "else:\n",
    "    print(\"Echo failed or incomplete.\")\n"
   ]
  },
  {
   "cell_type": "code",
   "execution_count": 24,
   "id": "b56364f8-ad4c-4172-93f9-0df398b4c6b5",
   "metadata": {},
   "outputs": [],
   "source": [
    "# close serial (manually at end of program)\n",
    "ser5.close()"
   ]
  }
 ],
 "metadata": {
  "kernelspec": {
   "display_name": "Python 3 (ipykernel)",
   "language": "python",
   "name": "python3"
  },
  "language_info": {
   "codemirror_mode": {
    "name": "ipython",
    "version": 3
   },
   "file_extension": ".py",
   "mimetype": "text/x-python",
   "name": "python",
   "nbconvert_exporter": "python",
   "pygments_lexer": "ipython3",
   "version": "3.12.3"
  }
 },
 "nbformat": 4,
 "nbformat_minor": 5
}
